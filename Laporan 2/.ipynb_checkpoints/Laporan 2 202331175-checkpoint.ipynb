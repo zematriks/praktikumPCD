{
 "cells": [
  {
   "cell_type": "code",
   "execution_count": null,
   "id": "1af6c3bb-6201-45e2-948a-3a9d04d8cbff",
   "metadata": {},
   "outputs": [],
   "source": [
    "#202331175 Rizal Wira Pambudi\n",
    "import cv2\n",
    "import numpy as np"
   ]
  },
  {
   "cell_type": "code",
   "execution_count": null,
   "id": "dad13386-ce2c-4561-836a-78170b5309be",
   "metadata": {},
   "outputs": [],
   "source": [
    "#202331175 Rizal Wira Pambudi\n",
    "citra = cv2.imread(\"waa.jpg\")\n",
    "cv2.imshow(\"Kucing\", citra)\n",
    "cv2.waitKey(0)\n",
    "cv2.destroyAllWindows()"
   ]
  },
  {
   "cell_type": "code",
   "execution_count": null,
   "id": "bd8afa33-559a-4e28-b197-4d127d55f66a",
   "metadata": {},
   "outputs": [],
   "source": [
    "#202331175 Rizal Wira Pambudi\n",
    "print(citra.shape)\n",
    "print(citra.dtype)"
   ]
  },
  {
   "cell_type": "code",
   "execution_count": null,
   "id": "7a0d034f-cce5-46bf-b37c-b67f3aac0369",
   "metadata": {},
   "outputs": [],
   "source": [
    "#202331175 Rizal Wira Pambudi\n",
    "b = citra[:, :, 0]\n",
    "g = citra[:, :, 1]\n",
    "r = citra[:, :, 2]"
   ]
  },
  {
   "cell_type": "code",
   "execution_count": null,
   "id": "dc7743b2-dfeb-4034-892a-0b2504501728",
   "metadata": {},
   "outputs": [],
   "source": [
    "#202331175 Rizal Wira Pambudi\n",
    "panjang = len(citra)\n",
    "lebar = len(citra[0])\n",
    "citra_gray = np.zeros((panjang, lebar))\n",
    "\n",
    "for i in range (panjang):\n",
    "    for j in range (lebar):\n",
    "        citra_gray[i,j] = 0.2989 * r[i,j] + 0.587 * g[i,j] + 0.1141 * b[i,j]\n",
    "\n",
    "citra_gray = citra_gray.astype(np.uint8)\n",
    "\n",
    "cv2.imshow(\"Hasil Grayscale\", citra_gray)\n",
    "cv2.waitKey(0)\n",
    "cv2.destroyAllWindows()"
   ]
  },
  {
   "cell_type": "code",
   "execution_count": null,
   "id": "53021dca-45d8-46d9-b220-2267752523fe",
   "metadata": {},
   "outputs": [],
   "source": [
    "#202331175 Rizal Wira Pambudi\n",
    "print(citra)"
   ]
  },
  {
   "cell_type": "code",
   "execution_count": null,
   "id": "ae8448d8-6e20-4262-b153-a793f32093c2",
   "metadata": {},
   "outputs": [],
   "source": [
    "#202331175 Rizal Wira Pambudi\n",
    "panjang = len(citra)\n",
    "lebar = len(citra[0])\n",
    "\n",
    "ambang = 128\n",
    "\n",
    "citra_binary = np.zeros((panjang, lebar))\n",
    "\n",
    "for i in range (panjang):\n",
    "    for j in range (lebar):\n",
    "        if citra_gray[i, j] >= ambang:\n",
    "            citra_binary[i, j] = 1\n",
    "        else:\n",
    "            citra_binary[i, j] = 0\n",
    "\n",
    "cv2.imshow(\"Hasil Binary\", citra_binary)\n",
    "cv2.waitKey(0)\n",
    "cv2.destroyAllWindows()\n"
   ]
  },
  {
   "cell_type": "code",
   "execution_count": null,
   "id": "30181b93-4572-4823-aba3-25f9f15a173d",
   "metadata": {},
   "outputs": [],
   "source": [
    "#202331175 Rizal Wira Pambudi\n",
    "print(citra_binary)"
   ]
  },
  {
   "cell_type": "code",
   "execution_count": null,
   "id": "c9203877-729f-4515-b4dd-377bc68c9fc8",
   "metadata": {},
   "outputs": [],
   "source": [
    "#202331175 Rizal Wira Pambudi\n",
    "print(citra_binary[50,50])"
   ]
  },
  {
   "cell_type": "code",
   "execution_count": null,
   "id": "905c6941-64f5-41bc-beae-9afb52ed90dc",
   "metadata": {},
   "outputs": [],
   "source": []
  }
 ],
 "metadata": {
  "kernelspec": {
   "display_name": "Python [conda env:base] *",
   "language": "python",
   "name": "conda-base-py"
  },
  "language_info": {
   "codemirror_mode": {
    "name": "ipython",
    "version": 3
   },
   "file_extension": ".py",
   "mimetype": "text/x-python",
   "name": "python",
   "nbconvert_exporter": "python",
   "pygments_lexer": "ipython3",
   "version": "3.12.7"
  }
 },
 "nbformat": 4,
 "nbformat_minor": 5
}
