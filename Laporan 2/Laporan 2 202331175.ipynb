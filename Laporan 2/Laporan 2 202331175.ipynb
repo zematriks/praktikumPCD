{
 "cells": [
  {
   "cell_type": "code",
   "execution_count": 4,
   "id": "1af6c3bb-6201-45e2-948a-3a9d04d8cbff",
   "metadata": {},
   "outputs": [],
   "source": [
    "#202331175 Rizal Wira Pambudi\n",
    "import cv2\n",
    "import numpy as np"
   ]
  },
  {
   "cell_type": "code",
   "execution_count": 6,
   "id": "dad13386-ce2c-4561-836a-78170b5309be",
   "metadata": {},
   "outputs": [],
   "source": [
    "#202331175 Rizal Wira Pambudi\n",
    "citra = cv2.imread(\"waa.jpg\")\n",
    "cv2.imshow(\"Kucing\", citra)\n",
    "cv2.waitKey(0)\n",
    "cv2.destroyAllWindows()"
   ]
  },
  {
   "cell_type": "code",
   "execution_count": 40,
   "id": "bd8afa33-559a-4e28-b197-4d127d55f66a",
   "metadata": {},
   "outputs": [
    {
     "name": "stdout",
     "output_type": "stream",
     "text": [
      "(338, 270, 3)\n",
      "uint8\n"
     ]
    }
   ],
   "source": [
    "#202331175 Rizal Wira Pambudi\n",
    "print(citra.shape)\n",
    "print(citra.dtype)"
   ]
  },
  {
   "cell_type": "code",
   "execution_count": 11,
   "id": "7a0d034f-cce5-46bf-b37c-b67f3aac0369",
   "metadata": {},
   "outputs": [],
   "source": [
    "#202331175 Rizal Wira Pambudi\n",
    "b = citra[:, :, 0]\n",
    "g = citra[:, :, 1]\n",
    "r = citra[:, :, 2]"
   ]
  },
  {
   "cell_type": "code",
   "execution_count": 13,
   "id": "dc7743b2-dfeb-4034-892a-0b2504501728",
   "metadata": {},
   "outputs": [],
   "source": [
    "#202331175 Rizal Wira Pambudi\n",
    "panjang = len(citra)\n",
    "lebar = len(citra[0])\n",
    "citra_gray = np.zeros((panjang, lebar))\n",
    "\n",
    "for i in range (panjang):\n",
    "    for j in range (lebar):\n",
    "        citra_gray[i,j] = 0.2989 * r[i,j] + 0.587 * g[i,j] + 0.1141 * b[i,j]\n",
    "\n",
    "citra_gray = citra_gray.astype(np.uint8)\n",
    "\n",
    "cv2.imshow(\"Hasil Grayscale\", citra_gray)\n",
    "cv2.waitKey(0)\n",
    "cv2.destroyAllWindows()"
   ]
  },
  {
   "cell_type": "code",
   "execution_count": 46,
   "id": "53021dca-45d8-46d9-b220-2267752523fe",
   "metadata": {},
   "outputs": [
    {
     "name": "stdout",
     "output_type": "stream",
     "text": [
      "[[[ 52  56  50]\n",
      "  [111 115 110]\n",
      "  [166 170 164]\n",
      "  ...\n",
      "  [171 188 205]\n",
      "  [159 176 194]\n",
      "  [154 171 189]]\n",
      "\n",
      " [[ 98 102  97]\n",
      "  [154 158 153]\n",
      "  [180 184 178]\n",
      "  ...\n",
      "  [179 196 213]\n",
      "  [166 183 201]\n",
      "  [164 181 198]]\n",
      "\n",
      " [[164 169 163]\n",
      "  [183 187 182]\n",
      "  [182 186 181]\n",
      "  ...\n",
      "  [182 199 217]\n",
      "  [164 181 198]\n",
      "  [166 183 201]]\n",
      "\n",
      " ...\n",
      "\n",
      " [[209 217 207]\n",
      "  [206 214 203]\n",
      "  [200 208 197]\n",
      "  ...\n",
      "  [165 181 194]\n",
      "  [159 175 188]\n",
      "  [163 179 193]]\n",
      "\n",
      " [[202 213 202]\n",
      "  [205 215 204]\n",
      "  [197 207 196]\n",
      "  ...\n",
      "  [165 181 192]\n",
      "  [157 173 184]\n",
      "  [166 183 194]]\n",
      "\n",
      " [[202 213 202]\n",
      "  [205 215 204]\n",
      "  [197 207 196]\n",
      "  ...\n",
      "  [165 181 192]\n",
      "  [157 173 184]\n",
      "  [166 183 194]]]\n"
     ]
    }
   ],
   "source": [
    "#202331175 Rizal Wira Pambudi\n",
    "print(citra)"
   ]
  },
  {
   "cell_type": "code",
   "execution_count": null,
   "id": "ae8448d8-6e20-4262-b153-a793f32093c2",
   "metadata": {},
   "outputs": [],
   "source": [
    "#202331175 Rizal Wira Pambudi\n",
    "panjang = len(citra)\n",
    "lebar = len(citra[0])\n",
    "\n",
    "ambang = 128\n",
    "\n",
    "citra_binary = np.zeros((panjang, lebar))\n",
    "\n",
    "for i in range (panjang):\n",
    "    for j in range (lebar):\n",
    "        if citra_gray[i, j] >= ambang:\n",
    "            citra_binary[i, j] = 1\n",
    "        else:\n",
    "            citra_binary[i, j] = 0\n",
    "\n",
    "cv2.imshow(\"Hasil Binary\", citra_binary)\n",
    "cv2.waitKey(0)\n",
    "cv2.destroyAllWindows()\n"
   ]
  },
  {
   "cell_type": "code",
   "execution_count": 50,
   "id": "30181b93-4572-4823-aba3-25f9f15a173d",
   "metadata": {},
   "outputs": [
    {
     "name": "stdout",
     "output_type": "stream",
     "text": [
      "[[0. 0. 1. ... 1. 1. 1.]\n",
      " [0. 1. 1. ... 1. 1. 1.]\n",
      " [1. 1. 1. ... 1. 1. 1.]\n",
      " ...\n",
      " [1. 1. 1. ... 1. 1. 1.]\n",
      " [1. 1. 1. ... 1. 1. 1.]\n",
      " [1. 1. 1. ... 1. 1. 1.]]\n"
     ]
    }
   ],
   "source": [
    "#202331175 Rizal Wira Pambudi\n",
    "print(citra_binary)"
   ]
  },
  {
   "cell_type": "code",
   "execution_count": 52,
   "id": "c9203877-729f-4515-b4dd-377bc68c9fc8",
   "metadata": {},
   "outputs": [
    {
     "name": "stdout",
     "output_type": "stream",
     "text": [
      "1.0\n"
     ]
    }
   ],
   "source": [
    "#202331175 Rizal Wira Pambudi\n",
    "print(citra_binary[50,50])"
   ]
  },
  {
   "cell_type": "markdown",
   "id": "1b13d0d5-2560-4a49-a264-cab63edf1e95",
   "metadata": {},
   "source": []
  }
 ],
 "metadata": {
  "kernelspec": {
   "display_name": "Python [conda env:base] *",
   "language": "python",
   "name": "conda-base-py"
  },
  "language_info": {
   "codemirror_mode": {
    "name": "ipython",
    "version": 3
   },
   "file_extension": ".py",
   "mimetype": "text/x-python",
   "name": "python",
   "nbconvert_exporter": "python",
   "pygments_lexer": "ipython3",
   "version": "3.12.7"
  }
 },
 "nbformat": 4,
 "nbformat_minor": 5
}
