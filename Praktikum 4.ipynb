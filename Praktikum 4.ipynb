{
 "cells": [
  {
   "cell_type": "code",
   "execution_count": 10,
   "id": "1b2d39f1-c72e-44b1-90e5-7ddb97622427",
   "metadata": {},
   "outputs": [],
   "source": [
    "import numpy as np\n",
    "import cv2"
   ]
  },
  {
   "cell_type": "code",
   "execution_count": 11,
   "id": "c9beddb5-e9ae-4671-bd42-a63b1be75c0a",
   "metadata": {},
   "outputs": [],
   "source": [
    "img = cv2.imread('mobil.jpg')"
   ]
  },
  {
   "cell_type": "code",
   "execution_count": 17,
   "id": "f76af73b-3be1-4608-b2be-363ed87f4bde",
   "metadata": {},
   "outputs": [
    {
     "ename": "AttributeError",
     "evalue": "'NoneType' object has no attribute 'shape'",
     "output_type": "error",
     "traceback": [
      "\u001b[1;31m---------------------------------------------------------------------------\u001b[0m",
      "\u001b[1;31mAttributeError\u001b[0m                            Traceback (most recent call last)",
      "Cell \u001b[1;32mIn[17], line 1\u001b[0m\n\u001b[1;32m----> 1\u001b[0m img\u001b[38;5;241m.\u001b[39mshape()\n",
      "\u001b[1;31mAttributeError\u001b[0m: 'NoneType' object has no attribute 'shape'"
     ]
    }
   ],
   "source": [
    "img.shape"
   ]
  },
  {
   "cell_type": "code",
   "execution_count": null,
   "id": "73eaeb3f-9a53-4edb-a270-423114c5135e",
   "metadata": {},
   "outputs": [],
   "source": [
    "img = cv2.cvtColor(img, cv2.COLOR_BGR2GRAY)"
   ]
  },
  {
   "cell_type": "markdown",
   "id": "eb9ee20a-205e-4805-9006-b0ef3dbf83ad",
   "metadata": {},
   "source": [
    "## Ketetanggaan Piksel"
   ]
  },
  {
   "cell_type": "code",
   "execution_count": null,
   "id": "8ec28582-c60c-4771-9644-45a2c4ba4640",
   "metadata": {},
   "outputs": [],
   "source": [
    "copyCitra = img.copy().astype(float)\n",
    "\n",
    "m1,n1 = copyCitra.shape\n",
    "output1 = np.empty([m1,n1])\n",
    "\n",
    "print(\"Shape CopyCitra : \", copyCitra.shape)\n",
    "print(\"Shape output1 : \", output.shape)\n",
    "\n",
    "print('m1 :', m1)\n",
    "print('n1 :', n1)"
   ]
  },
  {
   "cell_type": "code",
   "execution_count": null,
   "id": "693db213-609f-4a4f-9ae0-f669c30776c7",
   "metadata": {},
   "outputs": [],
   "source": [
    "for baris in range (0, m1-n1):\n",
    "    for kolom in range (0, n1-1):\n",
    "        a = baris\n",
    "        b = baris\n",
    "\n",
    "        jumlah = copyCitra[a-1, b-1] + copyCitra[a-1,b] + copyCitra[a-1,b-1] +\\\n",
    "                 copyCitra[a,b-1] + copyCitra[a,b] + copyCitra[a,b+1] +\\\n",
    "                 copyCitra[a+1, b-1] + copyCitra[a+1,b] + copyCitra[a+1,b+1]\n",
    "        \n",
    "        output1[a+b] = 1/9*jumlah"
   ]
  },
  {
   "cell_type": "code",
   "execution_count": null,
   "id": "88332e9e-eacf-4831-926e-68e02937d315",
   "metadata": {},
   "outputs": [],
   "source": [
    "fig, axs = plt.subplot(1,2, figsize=(10,10))\n",
    "ax = axis.ravel()\n",
    "\n",
    "ax[0].imshow(img, cmap='gray')\n",
    "ax[0].set_title('Input Citra')\n",
    "\n",
    "ax[1].imshow(output1, cmap='gray')\n",
    "ax[0].set_title('Output Citra')\n",
    "plt.show()"
   ]
  }
 ],
 "metadata": {
  "kernelspec": {
   "display_name": "Python [conda env:base] *",
   "language": "python",
   "name": "conda-base-py"
  },
  "language_info": {
   "codemirror_mode": {
    "name": "ipython",
    "version": 3
   },
   "file_extension": ".py",
   "mimetype": "text/x-python",
   "name": "python",
   "nbconvert_exporter": "python",
   "pygments_lexer": "ipython3",
   "version": "3.12.7"
  }
 },
 "nbformat": 4,
 "nbformat_minor": 5
}
