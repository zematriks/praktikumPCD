{
 "cells": [
  {
   "cell_type": "code",
   "execution_count": 8,
   "id": "1b2d39f1-c72e-44b1-90e5-7ddb97622427",
   "metadata": {},
   "outputs": [],
   "source": [
    "import numpy as np\n",
    "import cv2"
   ]
  },
  {
   "cell_type": "code",
   "execution_count": null,
   "id": "c9beddb5-e9ae-4671-bd42-a63b1be75c0a",
   "metadata": {},
   "outputs": [],
   "source": [
    "img = cv2.imread('mobil.jpg')"
   ]
  },
  {
   "cell_type": "code",
   "execution_count": null,
   "id": "f76af73b-3be1-4608-b2be-363ed87f4bde",
   "metadata": {},
   "outputs": [],
   "source": [
    "img.shape"
   ]
  },
  {
   "cell_type": "code",
   "execution_count": null,
   "id": "73eaeb3f-9a53-4edb-a270-423114c5135e",
   "metadata": {},
   "outputs": [],
   "source": [
    "img = cv2.cvtColor(img, cv2.COLOR_BGR2GRAY)"
   ]
  },
  {
   "cell_type": "markdown",
   "id": "eb9ee20a-205e-4805-9006-b0ef3dbf83ad",
   "metadata": {},
   "source": [
    "## Ketetanggaan Piksel"
   ]
  },
  {
   "cell_type": "code",
   "execution_count": null,
   "id": "8ec28582-c60c-4771-9644-45a2c4ba4640",
   "metadata": {},
   "outputs": [],
   "source": [
    "copyCitra = img.copy().astype(float)\n",
    "\n",
    "m1,n1 = copyCitra.shape\n",
    "output1 = np.empty([m1,n1])\n",
    "\n",
    "print(\"Shape CopyCitra : \", copyCitra.shape)\n",
    "print(\"Shape output1 : \", output.shape)\n",
    "\n",
    "print('m1 :', m1)\n",
    "print('n1 :', n1)"
   ]
  }
 ],
 "metadata": {
  "kernelspec": {
   "display_name": "Python [conda env:base] *",
   "language": "python",
   "name": "conda-base-py"
  },
  "language_info": {
   "codemirror_mode": {
    "name": "ipython",
    "version": 3
   },
   "file_extension": ".py",
   "mimetype": "text/x-python",
   "name": "python",
   "nbconvert_exporter": "python",
   "pygments_lexer": "ipython3",
   "version": "3.12.7"
  }
 },
 "nbformat": 4,
 "nbformat_minor": 5
}
